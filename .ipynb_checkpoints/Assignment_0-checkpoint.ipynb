{
 "cells": [
  {
   "cell_type": "markdown",
   "metadata": {},
   "source": [
    "verify the permision scraping the reddit"
   ]
  },
  {
   "cell_type": "code",
   "execution_count": 7,
   "metadata": {},
   "outputs": [],
   "source": [
    "from urllib import robotparser\n",
    "\n",
    "robot_parser=robotparser.RobotFileParser()\n",
    "\n",
    "def prepare(robots_txt_url):\n",
    "    robot_parser.set_url(robots_txt_url)\n",
    "    robot_parser.read()\n",
    "def is_allowed(target_url, user_agent=\"*\"):\n",
    "    return robot_parser.can_fetch(user_agent, target_url)"
   ]
  },
  {
   "cell_type": "code",
   "execution_count": 8,
   "metadata": {},
   "outputs": [],
   "source": [
    "prepare('https://www.reddit.com/robots.txt')"
   ]
  },
  {
   "cell_type": "code",
   "execution_count": 9,
   "metadata": {},
   "outputs": [
    {
     "name": "stdout",
     "output_type": "stream",
     "text": [
      "True\n"
     ]
    }
   ],
   "source": [
    "print(is_allowed(\"http://www.reddit.com/*\",\"scraper\"))"
   ]
  },
  {
   "cell_type": "code",
   "execution_count": 10,
   "metadata": {},
   "outputs": [],
   "source": [
    "import praw\n",
    "reddit=praw.Reddit(client_id=\"H0-BMSriOgT3CQ\", client_secret=\"MGNJwHf1AJk7YC3qIbN_PR7-RC4\", user_agent=\"scraper\")"
   ]
  },
  {
   "cell_type": "markdown",
   "metadata": {},
   "source": [
    "subreddit class is to represent a subreddit that id of it stands for \n",
    "searching or operations and name of it stands for represnetation in network"
   ]
  },
  {
   "cell_type": "code",
   "execution_count": 11,
   "metadata": {
    "scrolled": true
   },
   "outputs": [],
   "source": [
    "class subreddit():\n",
    "    def __init__(self, sub_id, sub_name):\n",
    "        self.ID=sub_id\n",
    "        self.NAME=sub_name\n",
    "    def __str__(self):\n",
    "        return '\\n'+'ID ---► '+self.ID+'\\n'+'NAME ---► '+self.NAME+'\\n'"
   ]
  },
  {
   "cell_type": "markdown",
   "metadata": {},
   "source": [
    "Each node is a redditor or subreddit, and each edge indicates that a significant portion of the posters in the two\n",
    "subreddits post in both subreddits"
   ]
  },
  {
   "cell_type": "markdown",
   "metadata": {},
   "source": [
    "in this operation i use tuples to represent a edge and use that in dictionary keys"
   ]
  },
  {
   "cell_type": "code",
   "execution_count": 13,
   "metadata": {},
   "outputs": [],
   "source": [
    "from time import sleep\n",
    "\n",
    "# Edges is a dictionary that contains the edges and its value is for weights of the graph or network\n",
    "Edges=dict()\n",
    "\n",
    "# communities is list that contains the subreddits or nodes of graph\n",
    "COMMUNITIES=list()\n",
    "\n",
    "# users is a list that contains the users or nodes of graph\n",
    "USERS=list()\n",
    "\n",
    "subreddits_id=list()\n",
    "# scraping\n",
    "\n",
    "# i extract a graph with 10k nodes\n",
    "for post in reddit.subreddit('all').hot(limit=10100):\n",
    "    sleep(0.05)\n",
    "    # i use the name of communities to represntation in network and their ids in scraping\n",
    "    # because of that i create a class with name of subreddit that is clear on above\n",
    "    SUBREDDIT=subreddit(post.subreddit.id, post.subreddit.name)\n",
    "    if SUBREDDIT.ID not in subreddits_id:\n",
    "        # add the subreddit to subreddits\n",
    "        subreddits_id.append(SUBREDDIT.ID)\n",
    "        COMMUNITIES.append(SUBREDDIT)\n",
    "    if post.author not in USERS:\n",
    "        USERS.append(post.author)\n",
    "        \n",
    "    node1=SUBREDDIT.ID\n",
    "    node2=post.author\n",
    "    \n",
    "    edge=(node1,node2)\n",
    "\n",
    "    if edge not in Edges.keys():\n",
    "        Edges[edge]=1\n",
    "\n",
    "    else:\n",
    "        Edges[edge]+=1\n",
    "\n",
    "    if (len(COMMUNITIES) + len(USERS)) > 10000:\n",
    "        break"
   ]
  },
  {
   "cell_type": "code",
   "execution_count": 14,
   "metadata": {},
   "outputs": [],
   "source": [
    "data=list()\n",
    "\n",
    "for edge in Edges.keys():\n",
    "    data.append([edge[0],edge[1],Edges[edge]])"
   ]
  },
  {
   "cell_type": "code",
   "execution_count": 15,
   "metadata": {},
   "outputs": [],
   "source": [
    "import pandas as pd\n",
    "\n",
    "Data=pd.DataFrame(data, columns=['Community','Redditor','Weight'])"
   ]
  },
  {
   "cell_type": "code",
   "execution_count": 7,
   "metadata": {
    "scrolled": true
   },
   "outputs": [
    {
     "name": "stdout",
     "output_type": "stream",
     "text": [
      "♦♦♦♦♦♦♦♦♦♦♦♦♦♦♦♦♦♦♦♦♦♦♦♦♦♦♦♦♦♦♦♦♦♦♦♦♦\n",
      "<class 'pandas.core.frame.DataFrame'>\n",
      "RangeIndex: 7678 entries, 0 to 7677\n",
      "Data columns (total 4 columns):\n",
      "Unnamed: 0    7678 non-null int64\n",
      "Community     7678 non-null object\n",
      "Redditor      7677 non-null object\n",
      "Weight        7678 non-null int64\n",
      "dtypes: int64(2), object(2)\n",
      "memory usage: 240.0+ KB\n",
      "♦♦♦♦♦♦♦♦♦♦♦♦♦♦♦♦♦♦♦♦♦♦♦♦♦♦♦♦♦♦♦♦♦♦♦♦♦\n"
     ]
    }
   ],
   "source": [
    "print(\"♦♦♦♦♦♦♦♦♦♦♦♦♦♦♦♦♦♦♦♦♦♦♦♦♦♦♦♦♦♦♦♦♦♦♦♦♦\")\n",
    "Data.info()\n",
    "print(\"♦♦♦♦♦♦♦♦♦♦♦♦♦♦♦♦♦♦♦♦♦♦♦♦♦♦♦♦♦♦♦♦♦♦♦♦♦\")"
   ]
  },
  {
   "cell_type": "code",
   "execution_count": 6,
   "metadata": {},
   "outputs": [
    {
     "data": {
      "text/html": [
       "<div>\n",
       "<style scoped>\n",
       "    .dataframe tbody tr th:only-of-type {\n",
       "        vertical-align: middle;\n",
       "    }\n",
       "\n",
       "    .dataframe tbody tr th {\n",
       "        vertical-align: top;\n",
       "    }\n",
       "\n",
       "    .dataframe thead th {\n",
       "        text-align: right;\n",
       "    }\n",
       "</style>\n",
       "<table border=\"1\" class=\"dataframe\">\n",
       "  <thead>\n",
       "    <tr style=\"text-align: right;\">\n",
       "      <th></th>\n",
       "      <th>Unnamed: 0</th>\n",
       "      <th>Community</th>\n",
       "      <th>Redditor</th>\n",
       "      <th>Weight</th>\n",
       "    </tr>\n",
       "  </thead>\n",
       "  <tbody>\n",
       "    <tr>\n",
       "      <th>0</th>\n",
       "      <td>0</td>\n",
       "      <td>2qh33</td>\n",
       "      <td>IntentionsUnkown</td>\n",
       "      <td>1</td>\n",
       "    </tr>\n",
       "    <tr>\n",
       "      <th>1</th>\n",
       "      <td>1</td>\n",
       "      <td>2qqjc</td>\n",
       "      <td>cartercbc14</td>\n",
       "      <td>1</td>\n",
       "    </tr>\n",
       "    <tr>\n",
       "      <th>2</th>\n",
       "      <td>2</td>\n",
       "      <td>2szyo</td>\n",
       "      <td>Strictlyforbargain85</td>\n",
       "      <td>1</td>\n",
       "    </tr>\n",
       "    <tr>\n",
       "      <th>3</th>\n",
       "      <td>3</td>\n",
       "      <td>2qh1u</td>\n",
       "      <td>aidyfarman</td>\n",
       "      <td>1</td>\n",
       "    </tr>\n",
       "    <tr>\n",
       "      <th>4</th>\n",
       "      <td>4</td>\n",
       "      <td>2qh1i</td>\n",
       "      <td>violin557</td>\n",
       "      <td>1</td>\n",
       "    </tr>\n",
       "  </tbody>\n",
       "</table>\n",
       "</div>"
      ],
      "text/plain": [
       "   Unnamed: 0 Community              Redditor  Weight\n",
       "0           0     2qh33      IntentionsUnkown       1\n",
       "1           1     2qqjc           cartercbc14       1\n",
       "2           2     2szyo  Strictlyforbargain85       1\n",
       "3           3     2qh1u            aidyfarman       1\n",
       "4           4     2qh1i             violin557       1"
      ]
     },
     "execution_count": 6,
     "metadata": {},
     "output_type": "execute_result"
    }
   ],
   "source": [
    "Data.head()"
   ]
  },
  {
   "cell_type": "code",
   "execution_count": 17,
   "metadata": {},
   "outputs": [],
   "source": [
    "Data.to_csv('data.csv')"
   ]
  },
  {
   "cell_type": "code",
   "execution_count": 1,
   "metadata": {},
   "outputs": [],
   "source": [
    "import pandas as pd\n",
    "Data=pd.read_csv('data.csv')"
   ]
  },
  {
   "cell_type": "code",
   "execution_count": 4,
   "metadata": {},
   "outputs": [],
   "source": [
    "Data.drop('Unnamed: 0', axis=1, inplace=True)"
   ]
  },
  {
   "cell_type": "code",
   "execution_count": 13,
   "metadata": {
    "scrolled": true
   },
   "outputs": [],
   "source": [
    "Data.rename(columns={'Community':'Source', 'Redditor':'Target'}, inplace=True)"
   ]
  },
  {
   "cell_type": "code",
   "execution_count": null,
   "metadata": {},
   "outputs": [],
   "source": [
    "Data.to_csv('data.csv', index=False)"
   ]
  }
 ],
 "metadata": {
  "kernelspec": {
   "display_name": "Python 3",
   "language": "python",
   "name": "python3"
  },
  "language_info": {
   "codemirror_mode": {
    "name": "ipython",
    "version": 3
   },
   "file_extension": ".py",
   "mimetype": "text/x-python",
   "name": "python",
   "nbconvert_exporter": "python",
   "pygments_lexer": "ipython3",
   "version": "3.6.5"
  }
 },
 "nbformat": 4,
 "nbformat_minor": 2
}
