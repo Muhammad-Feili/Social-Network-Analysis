{
 "cells": [
  {
   "cell_type": "code",
   "execution_count": 1,
   "metadata": {
    "colab": {
     "base_uri": "https://localhost:8080/",
     "height": 121
    },
    "colab_type": "code",
    "executionInfo": {
     "elapsed": 117252,
     "status": "ok",
     "timestamp": 1565454210926,
     "user": {
      "displayName": "mohammad feili",
      "photoUrl": "https://lh6.googleusercontent.com/-rJA5Opd_HF4/AAAAAAAAAAI/AAAAAAAAABU/japvsy9nDc0/s64/photo.jpg",
      "userId": "12904948476369842476"
     },
     "user_tz": -270
    },
    "id": "qxTLXL-jB8UW",
    "outputId": "8ca3c93d-745f-421a-fdee-6179c5e3995b"
   },
   "outputs": [
    {
     "name": "stdout",
     "output_type": "stream",
     "text": [
      "Go to this URL in a browser: https://accounts.google.com/o/oauth2/auth?client_id=947318989803-6bn6qk8qdgf4n4g3pfee6491hc0brc4i.apps.googleusercontent.com&redirect_uri=urn%3Aietf%3Awg%3Aoauth%3A2.0%3Aoob&scope=email%20https%3A%2F%2Fwww.googleapis.com%2Fauth%2Fdocs.test%20https%3A%2F%2Fwww.googleapis.com%2Fauth%2Fdrive%20https%3A%2F%2Fwww.googleapis.com%2Fauth%2Fdrive.photos.readonly%20https%3A%2F%2Fwww.googleapis.com%2Fauth%2Fpeopleapi.readonly&response_type=code\n",
      "\n",
      "Enter your authorization code:\n",
      "··········\n",
      "Mounted at /content/drive\n"
     ]
    }
   ],
   "source": [
    "from google.colab import drive\n",
    "drive.mount('/content/drive')"
   ]
  },
  {
   "cell_type": "code",
   "execution_count": 0,
   "metadata": {
    "colab": {},
    "colab_type": "code",
    "id": "a_GXV8XEHAvg"
   },
   "outputs": [],
   "source": [
    "#i use google colab for some operations because of computation"
   ]
  },
  {
   "cell_type": "code",
   "execution_count": 3,
   "metadata": {
    "colab": {
     "base_uri": "https://localhost:8080/",
     "height": 195
    },
    "colab_type": "code",
    "executionInfo": {
     "elapsed": 2635,
     "status": "ok",
     "timestamp": 1565454217668,
     "user": {
      "displayName": "mohammad feili",
      "photoUrl": "https://lh6.googleusercontent.com/-rJA5Opd_HF4/AAAAAAAAAAI/AAAAAAAAABU/japvsy9nDc0/s64/photo.jpg",
      "userId": "12904948476369842476"
     },
     "user_tz": -270
    },
    "id": "J0ezZEN1CGdq",
    "outputId": "9aa07984-e59a-4c11-9354-5e462e184060"
   },
   "outputs": [
    {
     "data": {
      "text/html": [
       "<div>\n",
       "<style scoped>\n",
       "    .dataframe tbody tr th:only-of-type {\n",
       "        vertical-align: middle;\n",
       "    }\n",
       "\n",
       "    .dataframe tbody tr th {\n",
       "        vertical-align: top;\n",
       "    }\n",
       "\n",
       "    .dataframe thead th {\n",
       "        text-align: right;\n",
       "    }\n",
       "</style>\n",
       "<table border=\"1\" class=\"dataframe\">\n",
       "  <thead>\n",
       "    <tr style=\"text-align: right;\">\n",
       "      <th></th>\n",
       "      <th>Unnamed: 0</th>\n",
       "      <th>Community</th>\n",
       "      <th>Redditor</th>\n",
       "      <th>Weight</th>\n",
       "    </tr>\n",
       "  </thead>\n",
       "  <tbody>\n",
       "    <tr>\n",
       "      <th>0</th>\n",
       "      <td>0</td>\n",
       "      <td>2qh33</td>\n",
       "      <td>IntentionsUnkown</td>\n",
       "      <td>1</td>\n",
       "    </tr>\n",
       "    <tr>\n",
       "      <th>1</th>\n",
       "      <td>1</td>\n",
       "      <td>2qqjc</td>\n",
       "      <td>cartercbc14</td>\n",
       "      <td>1</td>\n",
       "    </tr>\n",
       "    <tr>\n",
       "      <th>2</th>\n",
       "      <td>2</td>\n",
       "      <td>2szyo</td>\n",
       "      <td>Strictlyforbargain85</td>\n",
       "      <td>1</td>\n",
       "    </tr>\n",
       "    <tr>\n",
       "      <th>3</th>\n",
       "      <td>3</td>\n",
       "      <td>2qh1u</td>\n",
       "      <td>aidyfarman</td>\n",
       "      <td>1</td>\n",
       "    </tr>\n",
       "    <tr>\n",
       "      <th>4</th>\n",
       "      <td>4</td>\n",
       "      <td>2qh1i</td>\n",
       "      <td>violin557</td>\n",
       "      <td>1</td>\n",
       "    </tr>\n",
       "  </tbody>\n",
       "</table>\n",
       "</div>"
      ],
      "text/plain": [
       "   Unnamed: 0 Community              Redditor  Weight\n",
       "0           0     2qh33      IntentionsUnkown       1\n",
       "1           1     2qqjc           cartercbc14       1\n",
       "2           2     2szyo  Strictlyforbargain85       1\n",
       "3           3     2qh1u            aidyfarman       1\n",
       "4           4     2qh1i             violin557       1"
      ]
     },
     "execution_count": 3,
     "metadata": {
      "tags": []
     },
     "output_type": "execute_result"
    }
   ],
   "source": [
    "import pandas as pd\n",
    "\n",
    "data=pd.read_csv('/content/drive/My Drive/Colab Notebooks/data.csv')\n",
    "data.head()"
   ]
  },
  {
   "cell_type": "code",
   "execution_count": 4,
   "metadata": {
    "colab": {
     "base_uri": "https://localhost:8080/",
     "height": 101
    },
    "colab_type": "code",
    "executionInfo": {
     "elapsed": 2366,
     "status": "ok",
     "timestamp": 1565454217669,
     "user": {
      "displayName": "mohammad feili",
      "photoUrl": "https://lh6.googleusercontent.com/-rJA5Opd_HF4/AAAAAAAAAAI/AAAAAAAAABU/japvsy9nDc0/s64/photo.jpg",
      "userId": "12904948476369842476"
     },
     "user_tz": -270
    },
    "id": "Z9heSAY6Hu9q",
    "outputId": "3d709b13-a40a-4631-e9a1-5937b3f59034"
   },
   "outputs": [
    {
     "data": {
      "text/plain": [
       "Unnamed: 0    0\n",
       "Community     0\n",
       "Redditor      1\n",
       "Weight        0\n",
       "dtype: int64"
      ]
     },
     "execution_count": 4,
     "metadata": {
      "tags": []
     },
     "output_type": "execute_result"
    }
   ],
   "source": [
    "# preprocessing\n",
    "data.isnull().sum()"
   ]
  },
  {
   "cell_type": "code",
   "execution_count": 5,
   "metadata": {
    "colab": {
     "base_uri": "https://localhost:8080/",
     "height": 101
    },
    "colab_type": "code",
    "executionInfo": {
     "elapsed": 2115,
     "status": "ok",
     "timestamp": 1565454217670,
     "user": {
      "displayName": "mohammad feili",
      "photoUrl": "https://lh6.googleusercontent.com/-rJA5Opd_HF4/AAAAAAAAAAI/AAAAAAAAABU/japvsy9nDc0/s64/photo.jpg",
      "userId": "12904948476369842476"
     },
     "user_tz": -270
    },
    "id": "fIoJ_rYyH88M",
    "outputId": "d8382c54-9eb5-4b6c-a7f0-faa0e5173a5d"
   },
   "outputs": [
    {
     "data": {
      "text/plain": [
       "Unnamed: 0    0\n",
       "Community     0\n",
       "Redditor      0\n",
       "Weight        0\n",
       "dtype: int64"
      ]
     },
     "execution_count": 5,
     "metadata": {
      "tags": []
     },
     "output_type": "execute_result"
    }
   ],
   "source": [
    "data.fillna(method=\"ffill\", inplace=True)\n",
    "data.isnull().sum()"
   ]
  },
  {
   "cell_type": "code",
   "execution_count": 0,
   "metadata": {
    "colab": {},
    "colab_type": "code",
    "id": "PSlMajkHWQLE"
   },
   "outputs": [],
   "source": [
    "import networkx as nx\n",
    "\n",
    "G=nx.Graph()\n",
    "    \n",
    "# adding the edges of graph\n",
    "for edge in range(data.shape[0]):\n",
    "    G.add_edge(str(data.Community[edge]), str(data.Redditor[edge]), weight=int(data.Weight[edge]))"
   ]
  },
  {
   "cell_type": "code",
   "execution_count": 7,
   "metadata": {
    "colab": {
     "base_uri": "https://localhost:8080/",
     "height": 101
    },
    "colab_type": "code",
    "executionInfo": {
     "elapsed": 2987,
     "status": "ok",
     "timestamp": 1565454219052,
     "user": {
      "displayName": "mohammad feili",
      "photoUrl": "https://lh6.googleusercontent.com/-rJA5Opd_HF4/AAAAAAAAAAI/AAAAAAAAABU/japvsy9nDc0/s64/photo.jpg",
      "userId": "12904948476369842476"
     },
     "user_tz": -270
    },
    "id": "PqadRQuBHrDH",
    "outputId": "ca393fa1-6b31-4a67-a905-d858e3805606"
   },
   "outputs": [
    {
     "name": "stdout",
     "output_type": "stream",
     "text": [
      "Name: \n",
      "Type: Graph\n",
      "Number of nodes: 10000\n",
      "Number of edges: 7678\n",
      "Average degree:   1.5356\n"
     ]
    }
   ],
   "source": [
    "print(nx.info(G))"
   ]
  },
  {
   "cell_type": "code",
   "execution_count": 0,
   "metadata": {
    "colab": {},
    "colab_type": "code",
    "id": "udwhJK6DLYHZ"
   },
   "outputs": [],
   "source": [
    "#Spreading"
   ]
  },
  {
   "cell_type": "code",
   "execution_count": 9,
   "metadata": {
    "colab": {
     "base_uri": "https://localhost:8080/",
     "height": 608
    },
    "colab_type": "code",
    "executionInfo": {
     "elapsed": 673,
     "status": "ok",
     "timestamp": 1565454582553,
     "user": {
      "displayName": "mohammad feili",
      "photoUrl": "https://lh6.googleusercontent.com/-rJA5Opd_HF4/AAAAAAAAAAI/AAAAAAAAABU/japvsy9nDc0/s64/photo.jpg",
      "userId": "12904948476369842476"
     },
     "user_tz": -270
    },
    "id": "1QN0oKHALYL2",
    "outputId": "f87d0671-71bf-46de-c336-a3bf281e79ac",
    "scrolled": true
   },
   "outputs": [
    {
     "name": "stdout",
     "output_type": "stream",
     "text": [
      "Collecting ndlib\n",
      "\u001b[?25l  Downloading https://files.pythonhosted.org/packages/b4/58/4f83840862cf422a8f54012ab577cbbfa8868deabb8e1a83683974b0e195/ndlib-5.0.0-py3-none-any.whl (70kB)\n",
      "\u001b[K     |████████████████████████████████| 71kB 8.6MB/s \n",
      "\u001b[?25hRequirement already satisfied: networkx in /usr/local/lib/python3.6/dist-packages (from ndlib) (2.3)\n",
      "Requirement already satisfied: numpy in /usr/local/lib/python3.6/dist-packages (from ndlib) (1.16.4)\n",
      "Collecting python-igraph (from ndlib)\n",
      "\u001b[?25l  Downloading https://files.pythonhosted.org/packages/0f/a0/4e7134f803737aa6eebb4e5250565ace0e2599659e22be7f7eba520ff017/python-igraph-0.7.1.post6.tar.gz (377kB)\n",
      "\u001b[K     |████████████████████████████████| 378kB 27.8MB/s \n",
      "\u001b[?25hRequirement already satisfied: scipy in /usr/local/lib/python3.6/dist-packages (from ndlib) (1.3.0)\n",
      "Requirement already satisfied: bokeh in /usr/local/lib/python3.6/dist-packages (from ndlib) (1.0.4)\n",
      "Collecting netdispatch (from ndlib)\n",
      "  Downloading https://files.pythonhosted.org/packages/26/cf/b74cbecf5b89a225ce574ae143fcc2722d6a0e02bf188482d265af5da463/netdispatch-0.0.3-py3-none-any.whl\n",
      "Collecting dynetx (from ndlib)\n",
      "  Downloading https://files.pythonhosted.org/packages/b1/bb/aee9c3e845ad0eb1209a3495f942e5ad3cd8ffb56326253d35da891f24d3/dynetx-0.2.2-py3-none-any.whl\n",
      "Requirement already satisfied: future in /usr/local/lib/python3.6/dist-packages (from ndlib) (0.16.0)\n",
      "Requirement already satisfied: decorator>=4.3.0 in /usr/local/lib/python3.6/dist-packages (from networkx->ndlib) (4.4.0)\n",
      "Requirement already satisfied: python-dateutil>=2.1 in /usr/local/lib/python3.6/dist-packages (from bokeh->ndlib) (2.5.3)\n",
      "Requirement already satisfied: PyYAML>=3.10 in /usr/local/lib/python3.6/dist-packages (from bokeh->ndlib) (3.13)\n",
      "Requirement already satisfied: Jinja2>=2.7 in /usr/local/lib/python3.6/dist-packages (from bokeh->ndlib) (2.10.1)\n",
      "Requirement already satisfied: six>=1.5.2 in /usr/local/lib/python3.6/dist-packages (from bokeh->ndlib) (1.12.0)\n",
      "Requirement already satisfied: packaging>=16.8 in /usr/local/lib/python3.6/dist-packages (from bokeh->ndlib) (19.1)\n",
      "Requirement already satisfied: tornado>=4.3 in /usr/local/lib/python3.6/dist-packages (from bokeh->ndlib) (4.5.3)\n",
      "Requirement already satisfied: pillow>=4.0 in /usr/local/lib/python3.6/dist-packages (from bokeh->ndlib) (4.3.0)\n",
      "Requirement already satisfied: MarkupSafe>=0.23 in /usr/local/lib/python3.6/dist-packages (from Jinja2>=2.7->bokeh->ndlib) (1.1.1)\n",
      "Requirement already satisfied: attrs in /usr/local/lib/python3.6/dist-packages (from packaging>=16.8->bokeh->ndlib) (19.1.0)\n",
      "Requirement already satisfied: pyparsing>=2.0.2 in /usr/local/lib/python3.6/dist-packages (from packaging>=16.8->bokeh->ndlib) (2.4.2)\n",
      "Requirement already satisfied: olefile in /usr/local/lib/python3.6/dist-packages (from pillow>=4.0->bokeh->ndlib) (0.46)\n",
      "Building wheels for collected packages: python-igraph\n",
      "  Building wheel for python-igraph (setup.py) ... \u001b[?25l\u001b[?25hdone\n",
      "  Created wheel for python-igraph: filename=python_igraph-0.7.1.post6-cp36-cp36m-linux_x86_64.whl size=2220214 sha256=a161e53e00c9fd2b753a2ebe7b40cff1b8e64b2cbeb08b6795c30f456a8204e9\n",
      "  Stored in directory: /root/.cache/pip/wheels/41/d6/02/34eebae97e25f5b87d60f4c0687e00523e3f244fa41bc3f4a7\n",
      "Successfully built python-igraph\n",
      "Installing collected packages: python-igraph, netdispatch, dynetx, ndlib\n",
      "Successfully installed dynetx-0.2.2 ndlib-5.0.0 netdispatch-0.0.3 python-igraph-0.7.1.post6\n"
     ]
    }
   ],
   "source": [
    "!pip install ndlib"
   ]
  },
  {
   "cell_type": "code",
   "execution_count": 0,
   "metadata": {
    "colab": {},
    "colab_type": "code",
    "id": "XHmOkcBjOolk"
   },
   "outputs": [],
   "source": [
    "#Choose a Diffusion model"
   ]
  },
  {
   "cell_type": "code",
   "execution_count": 0,
   "metadata": {
    "colab": {},
    "colab_type": "code",
    "id": "3IrKEQaqLYPE"
   },
   "outputs": [],
   "source": [
    "import ndlib.models.epidemics as ep\n",
    "\n",
    "#choose a diffusion model\n",
    "SIR_model=ep.SIRModel(G)\n",
    "SI_model=ep.SIModel(G)\n",
    "SIS_model=ep.SISModel(G)\n",
    "ThrSh_model=ep.ThresholdModel(G)"
   ]
  },
  {
   "cell_type": "code",
   "execution_count": 0,
   "metadata": {
    "colab": {},
    "colab_type": "code",
    "id": "_KYWWmjuP-Gx"
   },
   "outputs": [],
   "source": [
    "#Configure the simulation"
   ]
  },
  {
   "cell_type": "code",
   "execution_count": 0,
   "metadata": {
    "colab": {},
    "colab_type": "code",
    "id": "x-HT-RcrPKFY"
   },
   "outputs": [],
   "source": [
    "#threshold model configuration"
   ]
  },
  {
   "cell_type": "code",
   "execution_count": 0,
   "metadata": {
    "colab": {},
    "colab_type": "code",
    "id": "Wd5plfO1LYSV"
   },
   "outputs": [],
   "source": [
    "import ndlib.models.ModelConfig as mc\n",
    "\n",
    "# Model Configuration\n",
    "ThrSh_config = mc.Configuration()\n",
    "ThrSh_config.add_model_parameter('fraction_infected', 0.1)\n",
    "\n",
    "# Setting node parameters\n",
    "threshold = 0.25\n",
    "for i in G.nodes():\n",
    "    ThrSh_config.add_node_configuration(\"threshold\", i, threshold)\n",
    "\n",
    "ThrSh_model.set_initial_status(ThrSh_config)\n",
    "\n",
    "# Simulation execution\n",
    "ThrSh_iterations = ThrSh_model.iteration_bunch(200)\n",
    "ThrSh_trends = ThrSh_model.build_trends(ThrSh_iterations)"
   ]
  },
  {
   "cell_type": "code",
   "execution_count": 0,
   "metadata": {
    "colab": {},
    "colab_type": "code",
    "id": "PSHqiaR9LYVd"
   },
   "outputs": [],
   "source": [
    "# other models i.e SIR SIS SI"
   ]
  },
  {
   "cell_type": "code",
   "execution_count": 0,
   "metadata": {
    "colab": {},
    "colab_type": "code",
    "id": "XLXrjd05Pc8m"
   },
   "outputs": [],
   "source": [
    "# Model Configuration\n",
    "SIR_config = mc.Configuration()\n",
    "SIR_config.add_model_parameter('beta', 0.001)\n",
    "SIR_config.add_model_parameter('gamma', 0.01)\n",
    "SIR_config.add_model_parameter(\"fraction_infected\", 0.05)\n",
    "SIR_model.set_initial_status(SIR_config)\n",
    "\n",
    "# Model Configuration\n",
    "SIS_config = mc.Configuration()\n",
    "SIS_config.add_model_parameter('beta', 0.001)\n",
    "SIS_config.add_model_parameter('lambda', 0.005)\n",
    "SIS_config.add_model_parameter(\"fraction_infected\", 0.05)\n",
    "SIS_model.set_initial_status(SIS_config)\n",
    "\n",
    "# Model Configuration\n",
    "SI_config = mc.Configuration()\n",
    "SI_config.add_model_parameter('beta', 0.001)\n",
    "SI_config.add_model_parameter(\"fraction_infected\", 0.05)\n",
    "SI_model.set_initial_status(SI_config)\n"
   ]
  },
  {
   "cell_type": "code",
   "execution_count": 0,
   "metadata": {
    "colab": {},
    "colab_type": "code",
    "id": "vMA4g36gPc_I"
   },
   "outputs": [],
   "source": [
    "#Execute the simulation\n"
   ]
  },
  {
   "cell_type": "code",
   "execution_count": 0,
   "metadata": {
    "colab": {},
    "colab_type": "code",
    "id": "62YlLthtPdBt"
   },
   "outputs": [],
   "source": [
    "# Simulation SIR\n",
    "SIR_iterations = SIR_model.iteration_bunch(200)\n",
    "SIR_trends = SIR_model.build_trends(SIR_iterations)\n",
    "\n",
    "# Simulation SIS\n",
    "SIS_iterations = SIS_model.iteration_bunch(200)\n",
    "SIS_trends = SIS_model.build_trends(SIS_iterations)\n",
    "\n",
    "# Simulation SI\n",
    "SI_iterations = SI_model.iteration_bunch(200)\n",
    "SI_trends = SI_model.build_trends(SI_iterations)"
   ]
  },
  {
   "cell_type": "code",
   "execution_count": 0,
   "metadata": {
    "colab": {},
    "colab_type": "code",
    "id": "JeRWFmZSPdDj"
   },
   "outputs": [],
   "source": [
    "#Visualize the results"
   ]
  },
  {
   "cell_type": "code",
   "execution_count": 0,
   "metadata": {
    "colab": {},
    "colab_type": "code",
    "id": "TQ_WxlykQ2Fj"
   },
   "outputs": [],
   "source": [
    "#Threshold model visualization"
   ]
  },
  {
   "cell_type": "code",
   "execution_count": 0,
   "metadata": {
    "colab": {},
    "colab_type": "code",
    "id": "n8KC1kAGQh4q"
   },
   "outputs": [],
   "source": [
    "from bokeh.io import output_notebook, show\n",
    "from ndlib.viz.bokeh.DiffusionTrend import DiffusionTrend\n",
    "\n",
    "ThrSh_viz = DiffusionTrend(ThrSh_model, ThrSh_trends)\n",
    "ThrSh_viz.plot()"
   ]
  },
  {
   "cell_type": "code",
   "execution_count": 0,
   "metadata": {
    "colab": {},
    "colab_type": "code",
    "id": "8W59NE4zQ8fp"
   },
   "outputs": [],
   "source": [
    "#SIS model visualization"
   ]
  },
  {
   "cell_type": "code",
   "execution_count": 0,
   "metadata": {
    "colab": {},
    "colab_type": "code",
    "id": "GLJkMY4VQh7Y"
   },
   "outputs": [],
   "source": [
    "SIS_viz = DiffusionTrend(SIS_model, SIS_trends)\n",
    "SIS_viz.plot()"
   ]
  },
  {
   "cell_type": "code",
   "execution_count": 0,
   "metadata": {
    "colab": {},
    "colab_type": "code",
    "id": "ckE-ObwsQ_7K"
   },
   "outputs": [],
   "source": [
    "#SIR model visualization"
   ]
  },
  {
   "cell_type": "code",
   "execution_count": 0,
   "metadata": {
    "colab": {},
    "colab_type": "code",
    "id": "Mi-SUAlJQh9v"
   },
   "outputs": [],
   "source": [
    "\n",
    "SIR_viz = DiffusionTrend(SIR_model, SIR_trends)\n",
    "SIR_viz.plot()"
   ]
  },
  {
   "cell_type": "code",
   "execution_count": 0,
   "metadata": {
    "colab": {},
    "colab_type": "code",
    "id": "3rcJlr3uRBqR"
   },
   "outputs": [],
   "source": [
    "#SI model visualization"
   ]
  },
  {
   "cell_type": "code",
   "execution_count": 0,
   "metadata": {
    "colab": {},
    "colab_type": "code",
    "id": "ObvOCRG6QiAX"
   },
   "outputs": [],
   "source": [
    "#width=400, height=400\n",
    "#\n",
    "SI_viz = DiffusionTrend(SI_model, SI_trends)\n",
    "SI_viz.plot()"
   ]
  },
  {
   "cell_type": "markdown",
   "metadata": {
    "colab_type": "text",
    "id": "ZAUSCE0jxSAj"
   },
   "source": [
    "*** ER graph***"
   ]
  },
  {
   "cell_type": "code",
   "execution_count": 0,
   "metadata": {
    "colab": {},
    "colab_type": "code",
    "id": "Rewh_ZbTRp1a"
   },
   "outputs": [],
   "source": [
    "g = nx.erdos_renyi_graph(len(G.nodes()),1)"
   ]
  },
  {
   "cell_type": "code",
   "execution_count": 0,
   "metadata": {
    "colab": {},
    "colab_type": "code",
    "id": "Z889efrwvWTL"
   },
   "outputs": [],
   "source": [
    "#choose a diffusion model for ER graph\n",
    "SIR_model_ER=ep.SIRModel(g)\n",
    "SI_model_ER=ep.SIModel(g)\n",
    "SIS_model_ER=ep.SISModel(g)\n",
    "ThrSh_model_ER=ep.ThresholdModel(g)"
   ]
  },
  {
   "cell_type": "code",
   "execution_count": 0,
   "metadata": {
    "colab": {},
    "colab_type": "code",
    "id": "YI89WnHpvt7c"
   },
   "outputs": [],
   "source": [
    "#Configure the simulation\n",
    "#threshold model configuration\n",
    "\n",
    "import ndlib.models.ModelConfig as mc\n",
    "\n",
    "# Model Configuration\n",
    "ThrSh_config_ER = mc.Configuration()\n",
    "ThrSh_config_ER.add_model_parameter('fraction_infected', 0.1)\n",
    "\n",
    "# Setting node parameters\n",
    "threshold = 0.25\n",
    "for i in g.nodes():\n",
    "    ThrSh_config.add_node_configuration(\"threshold\", i, threshold)\n",
    "\n",
    "ThrSh_model_ER.set_initial_status(ThrSh_config_ER)\n",
    "\n",
    "# Simulation execution\n",
    "ThrSh_iterations_ER = ThrSh_model_ER.iteration_bunch(200)\n",
    "ThrSh_trends_ER = ThrSh_model.build_trends(ThrSh_iterations_ER)"
   ]
  },
  {
   "cell_type": "code",
   "execution_count": 0,
   "metadata": {
    "colab": {},
    "colab_type": "code",
    "id": "2Be5a3oyv5UC"
   },
   "outputs": [],
   "source": [
    "# other models i.e SIR SIS SI\n",
    "# Model Configuration\n",
    "SIR_config_ER = mc.Configuration()\n",
    "SIR_config_ER.add_model_parameter('beta', 0.001)\n",
    "SIR_config_ER.add_model_parameter('gamma', 0.01)\n",
    "SIR_config_ER.add_model_parameter(\"fraction_infected\", 0.05)\n",
    "SIR_model_ER.set_initial_status(SIR_config_ER)\n",
    "\n",
    "# Model Configuration\n",
    "SIS_config_ER = mc.Configuration()\n",
    "SIS_config_ER.add_model_parameter('beta', 0.001)\n",
    "SIS_config_ER.add_model_parameter('lambda', 0.005)\n",
    "SIS_config_ER.add_model_parameter(\"fraction_infected\", 0.05)\n",
    "SIS_model_ER.set_initial_status(SIS_config_ER)\n",
    "\n",
    "# Model Configuration\n",
    "SI_config_ER = mc.Configuration()\n",
    "SI_config_ER.add_model_parameter('beta', 0.001)\n",
    "SI_config_ER.add_model_parameter(\"fraction_infected\", 0.05)\n",
    "SI_model_ER.set_initial_status(SI_config_ER)\n"
   ]
  },
  {
   "cell_type": "code",
   "execution_count": 0,
   "metadata": {
    "colab": {},
    "colab_type": "code",
    "id": "OAd0oMZqwAyh"
   },
   "outputs": [],
   "source": [
    "#Execute the simulation\n",
    "# Simulation SIR\n",
    "SIR_iterations_ER = SIR_model_ER.iteration_bunch(200)\n",
    "SIR_trends_ER = SIR_model_ER.build_trends(SIR_iterations_ER)\n",
    "\n",
    "# Simulation SIS\n",
    "SIS_iterations_ER = SIS_model_ER.iteration_bunch(200)\n",
    "SIS_trends_ER = SIS_model_ER.build_trends(SIS_iterations_ER)\n",
    "\n",
    "# Simulation SI\n",
    "SI_iterations_ER = SI_model_ER.iteration_bunch(200)\n",
    "SI_trends_ER = SI_model_ER.build_trends(SI_iterations_ER)"
   ]
  },
  {
   "cell_type": "code",
   "execution_count": 0,
   "metadata": {
    "colab": {},
    "colab_type": "code",
    "id": "s7SKp_MjwIhh"
   },
   "outputs": [],
   "source": [
    "#SIS comparison"
   ]
  },
  {
   "cell_type": "code",
   "execution_count": 130,
   "metadata": {
    "colab": {
     "base_uri": "https://localhost:8080/",
     "height": 70
    },
    "colab_type": "code",
    "executionInfo": {
     "elapsed": 224163,
     "status": "ok",
     "timestamp": 1565459827282,
     "user": {
      "displayName": "mohammad feili",
      "photoUrl": "https://lh6.googleusercontent.com/-rJA5Opd_HF4/AAAAAAAAAAI/AAAAAAAAABU/japvsy9nDc0/s64/photo.jpg",
      "userId": "12904948476369842476"
     },
     "user_tz": -270
    },
    "id": "_7wLMc7iRp4K",
    "outputId": "e9e2500a-c8ed-42ba-92c4-c3ff33f3971d"
   },
   "outputs": [
    {
     "name": "stderr",
     "output_type": "stream",
     "text": [
      "/usr/local/lib/python3.6/dist-packages/matplotlib/tight_layout.py:181: UserWarning: Tight layout not applied. The bottom and top margins cannot be made large enough to accommodate all axes decorations. \n",
      "  warnings.warn('Tight layout not applied. '\n"
     ]
    }
   ],
   "source": [
    "from ndlib.viz.mpl.TrendComparison import DiffusionTrendComparison\n",
    "\n",
    "viz = DiffusionTrendComparison([SIS_model, SIS_model_ER], [SIS_trends, SIS_trends_ER])\n",
    "viz.plot()"
   ]
  },
  {
   "cell_type": "code",
   "execution_count": 0,
   "metadata": {
    "colab": {},
    "colab_type": "code",
    "id": "P2N8Ok0Uw3ra"
   },
   "outputs": [],
   "source": [
    "#SIR comparison"
   ]
  },
  {
   "cell_type": "code",
   "execution_count": 132,
   "metadata": {
    "colab": {
     "base_uri": "https://localhost:8080/",
     "height": 70
    },
    "colab_type": "code",
    "executionInfo": {
     "elapsed": 226996,
     "status": "ok",
     "timestamp": 1565460155684,
     "user": {
      "displayName": "mohammad feili",
      "photoUrl": "https://lh6.googleusercontent.com/-rJA5Opd_HF4/AAAAAAAAAAI/AAAAAAAAABU/japvsy9nDc0/s64/photo.jpg",
      "userId": "12904948476369842476"
     },
     "user_tz": -270
    },
    "id": "XEjBxKNkRp6d",
    "outputId": "0442f54b-ed5e-4020-8a74-c229de0c7a32"
   },
   "outputs": [
    {
     "name": "stderr",
     "output_type": "stream",
     "text": [
      "/usr/local/lib/python3.6/dist-packages/matplotlib/tight_layout.py:181: UserWarning: Tight layout not applied. The bottom and top margins cannot be made large enough to accommodate all axes decorations. \n",
      "  warnings.warn('Tight layout not applied. '\n"
     ]
    }
   ],
   "source": [
    "# Visualization\n",
    "viz = DiffusionTrendComparison([SIR_model, SIR_model_ER], [SIR_trends, SIR_trends_ER])\n",
    "viz.plot()"
   ]
  },
  {
   "cell_type": "code",
   "execution_count": 0,
   "metadata": {
    "colab": {},
    "colab_type": "code",
    "id": "J6_CDAONRp-Z"
   },
   "outputs": [],
   "source": [
    "#SI comparison"
   ]
  },
  {
   "cell_type": "code",
   "execution_count": 0,
   "metadata": {
    "colab": {},
    "colab_type": "code",
    "id": "JfGqWEN2Rp9B"
   },
   "outputs": [],
   "source": [
    "# Visualization\n",
    "viz = DiffusionTrendComparison([SI_model, SI_model_ER], [SI_trends, SI_trends_ER])\n",
    "viz.plot()"
   ]
  },
  {
   "cell_type": "code",
   "execution_count": 0,
   "metadata": {
    "colab": {},
    "colab_type": "code",
    "id": "Y83Go2pgRDru"
   },
   "outputs": [],
   "source": [
    "#threshold comparison"
   ]
  },
  {
   "cell_type": "code",
   "execution_count": 0,
   "metadata": {
    "colab": {},
    "colab_type": "code",
    "id": "3vkhxVHQxA4F"
   },
   "outputs": [],
   "source": [
    "# Visualization\n",
    "import matplotlib as pltlib\n",
    "import matplotlib.pyplot as plt\n",
    "import matplotlib as mpl\n",
    "mpl.rc('figure', max_open_warning = 0)\n",
    "pltlib.rcParams.update({'figure.max_open_warning': 0})\n",
    "#plt.figure(figsize=(5,5))\n",
    "viz = DiffusionTrendComparison([ThrSh_model, ThrSh_model_ER], [ThrSh_trends, ThrSh_trends_ER])\n",
    "viz.plot()\n"
   ]
  },
  {
   "cell_type": "code",
   "execution_count": 0,
   "metadata": {
    "colab": {},
    "colab_type": "code",
    "id": "apYU6GabxOZ1"
   },
   "outputs": [],
   "source": []
  }
 ],
 "metadata": {
  "colab": {
   "collapsed_sections": [],
   "machine_shape": "hm",
   "name": " Exercise 1-2: Analytical Tasks.ipynb",
   "provenance": [],
   "version": "0.3.2"
  },
  "kernelspec": {
   "display_name": "Python 3",
   "language": "python",
   "name": "python3"
  },
  "language_info": {
   "codemirror_mode": {
    "name": "ipython",
    "version": 3
   },
   "file_extension": ".py",
   "mimetype": "text/x-python",
   "name": "python",
   "nbconvert_exporter": "python",
   "pygments_lexer": "ipython3",
   "version": "3.6.5"
  }
 },
 "nbformat": 4,
 "nbformat_minor": 1
}
